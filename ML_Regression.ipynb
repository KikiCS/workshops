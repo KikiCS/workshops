{
 "cells": [
  {
   "cell_type": "markdown",
   "metadata": {
    "colab_type": "text",
    "id": "_WSqj0N9Hg96"
   },
   "source": [
    "# Machine Learning Fundamentals: Regression"
   ]
  },
  {
   "cell_type": "markdown",
   "metadata": {
    "colab_type": "text",
    "id": "P8BmebTwGIhS"
   },
   "source": [
    "### Explanation: \n",
    "\n",
    "**Machine Learning**\n",
    "* From ['Python Data Science Handbook'](https://jakevdp.github.io/PythonDataScienceHandbook/) by Jake VanderPlass:\n",
    "\n",
    "* *Machine learning is often categorized as a subfield of artificial intelligence, but I find that categorization can often be misleading at first brush. The study of machine learning certainly arose from research in this context, but in the data science application of machine learning methods, it’s more helpful to think of **machine learning as a means of building models of data**.*\n",
    "\n",
    "\n",
    "* *Fundamentally, **machine learning involves building mathematical models to help understand data**. “Learning” enters the fray when we give these models tunable parameters that can be adapted to observed data; in this way the program can be considered to be “learning” from the data. Once these models have been fit to previously seen data, they can be used to predict and understand aspects of newly observed data.*\n",
    "\n",
    "\n",
    "\n",
    "\n",
    "**Different types of Machine Learning**\n",
    "\n",
    "* *Supervised learning* is about modeling the relationship between features of data and a label associated with the data. Once this model is determined, it can be used to apply labels to new, unknown data. \n",
    "* Supervised learning can either be a *classification* task (where our labels are in discrete categories) or *regression* task (where our labels are continuous quantities). \n",
    "* *Unsupervised learning* models the features of a dataset without reference to any label. These models include tasks such as clustering and dimensionality reduction. We can use unsupervised learning rechnqiues to preprocess data prior to running supervised learning models. \n",
    "* *Semi-supervised learning* can also be used when we only have incomplete labels for our data.\n",
    "* We will cover *deep learning* on Day 2, but it can be thought of as a way of implementimg  *supervised*, *unsupervised* and *semi-supervised* learning. "
   ]
  },
  {
   "cell_type": "markdown",
   "metadata": {
    "colab_type": "text",
    "id": "WNb73s9cGM19"
   },
   "source": [
    "### Next Steps:\n",
    "\n",
    "* For a good introduction, we recommend ['Python Data Science Handbook'](https://jakevdp.github.io/PythonDataScienceHandbook/), which is available free at the link. \n",
    "\n",
    "* For a more detailed overview, we suggest Chapter 2 of *Introduction to Statistical Learning* (also free [here](http://www-bcf.usc.edu/~gareth/ISL/))."
   ]
  },
  {
   "cell_type": "markdown",
   "metadata": {
    "colab_type": "text",
    "id": "ZpnIe4L5JYK1"
   },
   "source": [
    "## Machine Learning Workflow "
   ]
  },
  {
   "cell_type": "markdown",
   "metadata": {
    "colab_type": "text",
    "id": "Wh1Kmi-ORwlZ"
   },
   "source": [
    "### Define the Problem Statement\n",
    "* We will define the problem(s) that we are trying to solve given the data available to us\n",
    "* Note that steps 1 and 2 can be iterative, in that we may only know the problem we are trying to solve once we have analyzed the data. \n",
    "\n",
    "### Analyze and Preprocess Data\n",
    "* We will `analyze` our data to ensure we understand what information it contains, and whether some parts of the data are more relevant than others \n",
    "* We will also `preprocess` the data, so that any missing values are treated appropriately. We might `normalize` the data and turn `categorical` data into something that can be processed by our model.\n",
    "\n",
    "### Split the data set \n",
    "* We will split our data so that we can train our model using a `training set` and test it on a `testing set`, which has previously not been seen by our model.\n",
    "* We can do this in a variety of ways, from simply splitting the data 'manually' to using techniques such as cross-validation. Testing different approaches, including how much data to holdback for testing, is part of the trial and error of building a machine learning model. \n",
    "\n",
    "### Choose the most appropriate baseline algorithm\n",
    "* We will develop a basic, baseline model, to compare our more sophsiticated models with. \n",
    "* In the real world, this could be the current way things are done, even if this is currently not a machine learning method - it is often good to compare a complex model to something more basic to see what gains are really being achieved. \n",
    "\n",
    "### Train and test your baseline model\n",
    "* Given our baseline model and evaluation metric, we will train our model on our training data and test it on our testing data.\n",
    "\n",
    "### Chose quality evaluation metric(s)\n",
    "* We will choose a method to assess our model, and use this to compare all the models we develop.  \n",
    "* There are often a number of different metrics available, so it is important to consider what works best for a given problem and optimise the model for that metric.\n",
    "\n",
    "### Refine our dataset to improve the baseline model\n",
    "* We can use a process called `feature engineering` to improve how our dataset represents the problem we are trying to solve (for example by putting more emphasis on certain aspects of the data).\n",
    "* Feature engineering is a key part of machine learning. \n",
    "\n",
    "### Test alternative models\n",
    "* Once we have a good baseline, we can test alternative models that may perform better. We will compare them using the results from the test dataset. \n",
    "\n",
    "### Choose the best model and optimize it's parameters\n",
    "* Each model that we test will have a wide range of parameters that can be altered to change performance. \n",
    "* Once we have an idea of our best models, we can further refine our results by testing whether these parameters improve performance. "
   ]
  },
  {
   "cell_type": "markdown",
   "metadata": {
    "colab_type": "text",
    "id": "TFhBlcuzQUk5"
   },
   "source": [
    "### Next Steps:\n",
    "* There are various approaches to machine learning workflow, though all will include the areas covered above. \n",
    "* Good discussions of machine learning workflow are available. See *Python Machine Learning*', by Sebastian Raschka (see [here](https://sebastianraschka.com/books.html)) and this [blog](https://www.kdnuggets.com/2018/05/general-approaches-machine-learning-process.html) for  examples. "
   ]
  },
  {
   "cell_type": "markdown",
   "metadata": {
    "colab_type": "text",
    "id": "XV41up0tRwlb"
   },
   "source": [
    "## Key `python` libraries"
   ]
  },
  {
   "cell_type": "markdown",
   "metadata": {
    "colab_type": "text",
    "id": "6AztvHnFSo3m"
   },
   "source": [
    "* We will use the following `python` libraries: \n",
    " *  `numpy`, which provides vectorised arrays, and maths, algebra functionality;\n",
    " * `pandas`, which provides data structures and data analysis tools;\n",
    " * `matplotlib`, which provides highly customisable plotting functionality (and we also use `seaborn`, built on top of `matplotlib`, which is less customisable but can generate charts with less code); and, \n",
    " * `scikit-learn`, which provides models and tools for most machine learning algorithms"
   ]
  },
  {
   "cell_type": "code",
   "execution_count": 1,
   "metadata": {
    "ExecuteTime": {
     "end_time": "2019-06-15T21:54:05.432098Z",
     "start_time": "2019-06-15T21:54:03.427005Z"
    },
    "colab": {},
    "colab_type": "code",
    "id": "wx1i0pKVRwlc"
   },
   "outputs": [],
   "source": [
    "# these are import statements \n",
    "# by convention, the libraries are imported as a shorthand that we will refer to \n",
    "import pandas as pd\n",
    "import numpy as np\n",
    "import matplotlib.pyplot as plt\n",
    "import seaborn as sns\n",
    "\n",
    "# rather than importing the whole sklearn library, we will import certain modules \n",
    "from sklearn.linear_model import LinearRegression\n",
    "from sklearn.ensemble import RandomForestRegressor\n",
    "from sklearn.datasets import load_boston\n",
    "from sklearn import model_selection\n",
    "from sklearn.preprocessing import StandardScaler\n",
    "from sklearn import metrics"
   ]
  },
  {
   "cell_type": "markdown",
   "metadata": {
    "colab_type": "text",
    "id": "_5Io9Kp_Ti2k"
   },
   "source": [
    "**Next Steps:**\n",
    "* We have developed more focussed notebooks for each of the main libraries, and they are available at the following links (in `collaboratory`):\n",
    " * [matplotlib](https://drive.google.com/file/d/1F7WGxM00vjrC1DYxYkjuUg-qm5iuNMze/view?usp=sharing) \n",
    " * [numpy](https://drive.google.com/file/d/1i8Oe7SmIIW3Y0aMecRGjVZR8G1NmfMKw/view?usp=sharing)  \n",
    " * [pandas](https://drive.google.com/file/d/1mcQt84uORvBcrJ06fzffIcvIhcrtNLgd/view?usp=sharing) \n",
    " * [scikit-learn](https://drive.google.com/file/d/1xjINQQd0NBFhwYdBVFUVwn7IsnjUzi87/view?usp=sharing) \n",
    "* These will provide much more detail on the specific libraries, and contain exercises that you can complete to test your knowledge. "
   ]
  },
  {
   "cell_type": "markdown",
   "metadata": {
    "colab_type": "text",
    "id": "xZkfBuy7UiE4"
   },
   "source": [
    "## Machine Learning Workflow Example"
   ]
  },
  {
   "cell_type": "markdown",
   "metadata": {
    "colab_type": "text",
    "id": "B71_XzflRwlf"
   },
   "source": [
    "### Step 1: Define the Problem Statement\n",
    "\n",
    "* We will use a dataset that is provided as part of the `sci-kit learn` library, the Boston Houses dataset. We can load this dataset and see a general description of what it contains."
   ]
  },
  {
   "cell_type": "code",
   "execution_count": 2,
   "metadata": {
    "ExecuteTime": {
     "end_time": "2019-06-15T21:54:05.443741Z",
     "start_time": "2019-06-15T21:54:05.433811Z"
    },
    "colab": {
     "base_uri": "https://localhost:8080/",
     "height": 34
    },
    "colab_type": "code",
    "id": "t90YYSMyRwlg",
    "outputId": "c5c6b3bf-5a83-4e4d-df11-4d0329ac1241"
   },
   "outputs": [
    {
     "data": {
      "text/plain": [
       "dict_keys(['data', 'target', 'feature_names', 'DESCR', 'filename'])"
      ]
     },
     "execution_count": 2,
     "metadata": {},
     "output_type": "execute_result"
    }
   ],
   "source": [
    "# we load the dataset and save it as the variable boston\n",
    "boston = load_boston()\n",
    "\n",
    "# if we want to know what sort of detail is provided with this dataset, we can call .keys()\n",
    "boston.keys()"
   ]
  },
  {
   "cell_type": "code",
   "execution_count": 3,
   "metadata": {
    "ExecuteTime": {
     "end_time": "2019-06-15T21:54:05.449220Z",
     "start_time": "2019-06-15T21:54:05.445448Z"
    },
    "colab": {
     "base_uri": "https://localhost:8080/",
     "height": 164
    },
    "colab_type": "code",
    "id": "rh-KRuwjRwln",
    "outputId": "8fd29d75-b2d2-4fc6-8aa2-f16dd5de8904"
   },
   "outputs": [
    {
     "name": "stdout",
     "output_type": "stream",
     "text": [
      ".. _boston_dataset:\n",
      "\n",
      "Boston house prices dataset\n",
      "---------------------------\n",
      "\n",
      "**Data Set Characteristics:**  \n",
      "\n",
      "    :Number of Instances: 506 \n",
      "\n",
      "    :Number of Attributes: 13 numeric/categorical predictive. Median Value (attribute 14) is usually the target.\n",
      "\n",
      "    :Attribute Information (in order):\n",
      "        - CRIM     per capita crime rate by town\n",
      "        - ZN       proportion of residential land zoned for lots over 25,000 sq.ft.\n",
      "        - INDUS    proportion of non-retail business acres per town\n",
      "        - CHAS     Charles River dummy variable (= 1 if tract bounds river; 0 otherwise)\n",
      "        - NOX      nitric oxides concentration (parts per 10 million)\n",
      "        - RM       average number of rooms per dwelling\n",
      "        - AGE      proportion of owner-occupied units built prior to 1940\n",
      "        - DIS      weighted distances to five Boston employment centres\n",
      "        - RAD      index of accessibility to radial highways\n",
      "        - TAX      full-value property-tax rate per $10,000\n",
      "        - PTRATIO  pupil-teacher ratio by town\n",
      "        - B        1000(Bk - 0.63)^2 where Bk is the proportion of blacks by town\n",
      "        - LSTAT    % lower status of the population\n",
      "        - MEDV     Median value of owner-occupied homes in $1000's\n",
      "\n",
      "    :Missing Attribute Values: None\n",
      "\n",
      "    :Creator: Harrison, D. and Rubinfeld, D.L.\n",
      "\n",
      "This is a copy of UCI ML housing dataset.\n",
      "https://archive.ics.uci.edu/ml/machine-learning-databases/housing/\n",
      "\n",
      "\n",
      "This dataset was taken from the StatLib library which is maintained at Carnegie Mellon University.\n",
      "\n",
      "The Boston house-price data of Harrison, D. and Rubinfeld, D.L. 'Hedonic\n",
      "prices and the demand for clean air', J. Environ. Economics & Management,\n",
      "vol.5, 81-102, 1978.   Used in Belsley, Kuh & Welsch, 'Regression diagnostics\n",
      "...', Wiley, 1980.   N.B. Various transformations are used in the table on\n",
      "pages 244-261 of the latter.\n",
      "\n",
      "The Boston house-price data has been used in many machine learning papers that address regression\n",
      "problems.   \n",
      "     \n",
      ".. topic:: References\n",
      "\n",
      "   - Belsley, Kuh & Welsch, 'Regression diagnostics: Identifying Influential Data and Sources of Collinearity', Wiley, 1980. 244-261.\n",
      "   - Quinlan,R. (1993). Combining Instance-Based and Model-Based Learning. In Proceedings on the Tenth International Conference of Machine Learning, 236-243, University of Massachusetts, Amherst. Morgan Kaufmann.\n",
      "\n"
     ]
    }
   ],
   "source": [
    "# the info at the .DESCR key will tell us more \n",
    "print(boston.DESCR)"
   ]
  },
  {
   "cell_type": "markdown",
   "metadata": {
    "colab_type": "text",
    "id": "ohv11mdyRwlu"
   },
   "source": [
    "* There is a lot of information to inform our problem statement. We have been given a `data` and `target` set of values and told that `MEDV` (median value) is usually used as the target variable. \n",
    "* We can therefore say that the problem statement is *to predict the median value of a home given a set number of features of that home*. \n",
    "* We have 13 other features. We will use those 13 features and accompanying target variable - the median value of the home - to train a model using seen or training data. We will then feed our trained model the 13 features from unseen or test data *without* passing in the target variable information. Our model will predict what it thinks is the median value and we will compare that prediction to the actual answer to assess how well our model performs. \n",
    "* We can also see that our data set contains 506 records. It has no missing values, which is unusual but makes our job of `preprocessing` easier.\n"
   ]
  },
  {
   "cell_type": "markdown",
   "metadata": {
    "colab_type": "text",
    "id": "k2EPZi9kWErG"
   },
   "source": [
    "### Step 2: Analyse and Preprocess data"
   ]
  },
  {
   "cell_type": "markdown",
   "metadata": {
    "colab_type": "text",
    "id": "aYwus1tKW0sZ"
   },
   "source": [
    "#### Analyze the Data\n",
    "* We will use `pandas` and `matplotlib` to do some basic `exploratory data analysis`\n",
    "* This will include getting a feel for the overall dataset so that we understand what sorts of values it contains\n",
    "* We will compute summary statistics and look at the distributions of each feature\n",
    "* We can start to determine what are the most important features, where there might be `outliers` and whether we need to `normalize` the data."
   ]
  },
  {
   "cell_type": "code",
   "execution_count": 4,
   "metadata": {
    "ExecuteTime": {
     "end_time": "2019-06-15T21:54:05.455175Z",
     "start_time": "2019-06-15T21:54:05.451792Z"
    },
    "colab": {},
    "colab_type": "code",
    "id": "3oy4pgWhRwlv"
   },
   "outputs": [],
   "source": [
    "# we can use pandas to create a dataframe, which is basically a way of storing and operating on tabular data \n",
    "# here we pass in both the data and the column names as variables\n",
    "boston_X = pd.DataFrame(boston.data, columns = boston.feature_names)"
   ]
  },
  {
   "cell_type": "code",
   "execution_count": 5,
   "metadata": {
    "ExecuteTime": {
     "end_time": "2019-06-15T21:54:05.471762Z",
     "start_time": "2019-06-15T21:54:05.456622Z"
    },
    "colab": {
     "base_uri": "https://localhost:8080/",
     "height": 204
    },
    "colab_type": "code",
    "id": "BiVTiekfRwlz",
    "outputId": "aed47fd8-fd8c-477e-e261-df543c892b0c"
   },
   "outputs": [
    {
     "data": {
      "text/html": [
       "<div>\n",
       "<style scoped>\n",
       "    .dataframe tbody tr th:only-of-type {\n",
       "        vertical-align: middle;\n",
       "    }\n",
       "\n",
       "    .dataframe tbody tr th {\n",
       "        vertical-align: top;\n",
       "    }\n",
       "\n",
       "    .dataframe thead th {\n",
       "        text-align: right;\n",
       "    }\n",
       "</style>\n",
       "<table border=\"1\" class=\"dataframe\">\n",
       "  <thead>\n",
       "    <tr style=\"text-align: right;\">\n",
       "      <th></th>\n",
       "      <th>CRIM</th>\n",
       "      <th>ZN</th>\n",
       "      <th>INDUS</th>\n",
       "      <th>CHAS</th>\n",
       "      <th>NOX</th>\n",
       "      <th>RM</th>\n",
       "      <th>AGE</th>\n",
       "      <th>DIS</th>\n",
       "      <th>RAD</th>\n",
       "      <th>TAX</th>\n",
       "      <th>PTRATIO</th>\n",
       "      <th>B</th>\n",
       "      <th>LSTAT</th>\n",
       "    </tr>\n",
       "  </thead>\n",
       "  <tbody>\n",
       "    <tr>\n",
       "      <th>0</th>\n",
       "      <td>0.00632</td>\n",
       "      <td>18.0</td>\n",
       "      <td>2.31</td>\n",
       "      <td>0.0</td>\n",
       "      <td>0.538</td>\n",
       "      <td>6.575</td>\n",
       "      <td>65.2</td>\n",
       "      <td>4.0900</td>\n",
       "      <td>1.0</td>\n",
       "      <td>296.0</td>\n",
       "      <td>15.3</td>\n",
       "      <td>396.90</td>\n",
       "      <td>4.98</td>\n",
       "    </tr>\n",
       "    <tr>\n",
       "      <th>1</th>\n",
       "      <td>0.02731</td>\n",
       "      <td>0.0</td>\n",
       "      <td>7.07</td>\n",
       "      <td>0.0</td>\n",
       "      <td>0.469</td>\n",
       "      <td>6.421</td>\n",
       "      <td>78.9</td>\n",
       "      <td>4.9671</td>\n",
       "      <td>2.0</td>\n",
       "      <td>242.0</td>\n",
       "      <td>17.8</td>\n",
       "      <td>396.90</td>\n",
       "      <td>9.14</td>\n",
       "    </tr>\n",
       "    <tr>\n",
       "      <th>2</th>\n",
       "      <td>0.02729</td>\n",
       "      <td>0.0</td>\n",
       "      <td>7.07</td>\n",
       "      <td>0.0</td>\n",
       "      <td>0.469</td>\n",
       "      <td>7.185</td>\n",
       "      <td>61.1</td>\n",
       "      <td>4.9671</td>\n",
       "      <td>2.0</td>\n",
       "      <td>242.0</td>\n",
       "      <td>17.8</td>\n",
       "      <td>392.83</td>\n",
       "      <td>4.03</td>\n",
       "    </tr>\n",
       "    <tr>\n",
       "      <th>3</th>\n",
       "      <td>0.03237</td>\n",
       "      <td>0.0</td>\n",
       "      <td>2.18</td>\n",
       "      <td>0.0</td>\n",
       "      <td>0.458</td>\n",
       "      <td>6.998</td>\n",
       "      <td>45.8</td>\n",
       "      <td>6.0622</td>\n",
       "      <td>3.0</td>\n",
       "      <td>222.0</td>\n",
       "      <td>18.7</td>\n",
       "      <td>394.63</td>\n",
       "      <td>2.94</td>\n",
       "    </tr>\n",
       "    <tr>\n",
       "      <th>4</th>\n",
       "      <td>0.06905</td>\n",
       "      <td>0.0</td>\n",
       "      <td>2.18</td>\n",
       "      <td>0.0</td>\n",
       "      <td>0.458</td>\n",
       "      <td>7.147</td>\n",
       "      <td>54.2</td>\n",
       "      <td>6.0622</td>\n",
       "      <td>3.0</td>\n",
       "      <td>222.0</td>\n",
       "      <td>18.7</td>\n",
       "      <td>396.90</td>\n",
       "      <td>5.33</td>\n",
       "    </tr>\n",
       "  </tbody>\n",
       "</table>\n",
       "</div>"
      ],
      "text/plain": [
       "      CRIM    ZN  INDUS  CHAS    NOX     RM   AGE     DIS  RAD    TAX  \\\n",
       "0  0.00632  18.0   2.31   0.0  0.538  6.575  65.2  4.0900  1.0  296.0   \n",
       "1  0.02731   0.0   7.07   0.0  0.469  6.421  78.9  4.9671  2.0  242.0   \n",
       "2  0.02729   0.0   7.07   0.0  0.469  7.185  61.1  4.9671  2.0  242.0   \n",
       "3  0.03237   0.0   2.18   0.0  0.458  6.998  45.8  6.0622  3.0  222.0   \n",
       "4  0.06905   0.0   2.18   0.0  0.458  7.147  54.2  6.0622  3.0  222.0   \n",
       "\n",
       "   PTRATIO       B  LSTAT  \n",
       "0     15.3  396.90   4.98  \n",
       "1     17.8  396.90   9.14  \n",
       "2     17.8  392.83   4.03  \n",
       "3     18.7  394.63   2.94  \n",
       "4     18.7  396.90   5.33  "
      ]
     },
     "execution_count": 5,
     "metadata": {},
     "output_type": "execute_result"
    }
   ],
   "source": [
    "# we can then look at the top of the dataframe to see the sort of values it contains\n",
    "boston_X.head()"
   ]
  },
  {
   "cell_type": "code",
   "execution_count": 6,
   "metadata": {
    "ExecuteTime": {
     "end_time": "2019-06-15T21:54:05.520696Z",
     "start_time": "2019-06-15T21:54:05.473301Z"
    },
    "colab": {
     "base_uri": "https://localhost:8080/",
     "height": 510
    },
    "colab_type": "code",
    "id": "unZkKggTRwl9",
    "outputId": "f9379b9e-82a9-43c0-fffd-a0dcac0e82e2"
   },
   "outputs": [
    {
     "name": "stdout",
     "output_type": "stream",
     "text": [
      "             CRIM          ZN       INDUS        CHAS         NOX          RM  \\\n",
      "count  506.000000  506.000000  506.000000  506.000000  506.000000  506.000000   \n",
      "mean     3.613524   11.363636   11.136779    0.069170    0.554695    6.284634   \n",
      "std      8.601545   23.322453    6.860353    0.253994    0.115878    0.702617   \n",
      "min      0.006320    0.000000    0.460000    0.000000    0.385000    3.561000   \n",
      "25%      0.082045    0.000000    5.190000    0.000000    0.449000    5.885500   \n",
      "50%      0.256510    0.000000    9.690000    0.000000    0.538000    6.208500   \n",
      "75%      3.677083   12.500000   18.100000    0.000000    0.624000    6.623500   \n",
      "max     88.976200  100.000000   27.740000    1.000000    0.871000    8.780000   \n",
      "\n",
      "              AGE         DIS         RAD         TAX     PTRATIO           B  \\\n",
      "count  506.000000  506.000000  506.000000  506.000000  506.000000  506.000000   \n",
      "mean    68.574901    3.795043    9.549407  408.237154   18.455534  356.674032   \n",
      "std     28.148861    2.105710    8.707259  168.537116    2.164946   91.294864   \n",
      "min      2.900000    1.129600    1.000000  187.000000   12.600000    0.320000   \n",
      "25%     45.025000    2.100175    4.000000  279.000000   17.400000  375.377500   \n",
      "50%     77.500000    3.207450    5.000000  330.000000   19.050000  391.440000   \n",
      "75%     94.075000    5.188425   24.000000  666.000000   20.200000  396.225000   \n",
      "max    100.000000   12.126500   24.000000  711.000000   22.000000  396.900000   \n",
      "\n",
      "            LSTAT  \n",
      "count  506.000000  \n",
      "mean    12.653063  \n",
      "std      7.141062  \n",
      "min      1.730000  \n",
      "25%      6.950000  \n",
      "50%     11.360000  \n",
      "75%     16.955000  \n",
      "max     37.970000  \n"
     ]
    }
   ],
   "source": [
    "# pandas has a lot of functionality to assist with exploratory data analysis\n",
    "# .describe() provide summary statistics on all numeric columns\n",
    "print(boston_X.describe())"
   ]
  },
  {
   "cell_type": "code",
   "execution_count": 7,
   "metadata": {
    "ExecuteTime": {
     "end_time": "2019-06-15T21:54:05.527108Z",
     "start_time": "2019-06-15T21:54:05.523186Z"
    },
    "colab": {
     "base_uri": "https://localhost:8080/",
     "height": 34
    },
    "colab_type": "code",
    "id": "bT6-tZXAYaHJ",
    "outputId": "9c314ad8-4558-433a-abb9-94b61204d072"
   },
   "outputs": [
    {
     "name": "stdout",
     "output_type": "stream",
     "text": [
      "(506, 13)\n"
     ]
    }
   ],
   "source": [
    "# we can also see the shape of the data\n",
    "print(boston_X.shape)"
   ]
  },
  {
   "cell_type": "markdown",
   "metadata": {
    "colab_type": "text",
    "id": "pfqRGDxjRwmB"
   },
   "source": [
    "* For each feature, we can see the `count`, or number of data entries, the `mean` value, and the `standard deviation`, `min`, `max` and `quartile` values. \n",
    "* We can see that the range of values for each feature differs quite a lot, so we can start to think about whether to apply normalization to the data. \n",
    "* We can also see that the `CHAS` faeture is either a `(1,0)` value. If we look back at our description, we can see that this is an example of a `categorical` variable. These are values used to describe non-numeric data. In this case,  a `1` indicates the house borders near the river, and a `0` that it doesn't."
   ]
  },
  {
   "cell_type": "code",
   "execution_count": 8,
   "metadata": {
    "ExecuteTime": {
     "end_time": "2019-06-15T21:54:08.600706Z",
     "start_time": "2019-06-15T21:54:05.530303Z"
    },
    "colab": {
     "base_uri": "https://localhost:8080/",
     "height": 4853
    },
    "colab_type": "code",
    "id": "AhYv8ivsRwmT",
    "outputId": "c84a0b31-208f-4a07-fcf8-f83d8a4c9017"
   },
   "outputs": [
    {
     "data": {
      "image/png": "[encoded data removed]",
      "text/plain": [
       "<Figure size 864x432 with 2 Axes>"
      ]
     },
     "metadata": {
      "needs_background": "light"
     },
     "output_type": "display_data"
    },
    {
     "data": {
      "image/png": "[encoded data removed]",
      "text/plain": [
       "<Figure size 864x432 with 2 Axes>"
      ]
     },
     "metadata": {
      "needs_background": "light"
     },
     "output_type": "display_data"
    },
    {
     "data": {
      "image/png": "[encoded data removed]",
      "text/plain": [
       "<Figure size 864x432 with 2 Axes>"
      ]
     },
     "metadata": {
      "needs_background": "light"
     },
     "output_type": "display_data"
    },
    {
     "data": {
      "image/png": "[encoded data removed]",
      "text/plain": [
       "<Figure size 864x432 with 2 Axes>"
      ]
     },
     "metadata": {
      "needs_background": "light"
     },
     "output_type": "display_data"
    },
    {
     "data": {
      "image/png": "[encoded data removed]",
      "text/plain": [
       "<Figure size 864x432 with 2 Axes>"
      ]
     },
     "metadata": {
      "needs_background": "light"
     },
     "output_type": "display_data"
    },
    {
     "data": {
      "image/png": "[encoded data removed]",
      "text/plain": [
       "<Figure size 864x432 with 2 Axes>"
      ]
     },
     "metadata": {
      "needs_background": "light"
     },
     "output_type": "display_data"
    },
    {
     "data": {
      "image/png": "[encoded data removed]",
      "text/plain": [
       "<Figure size 864x432 with 2 Axes>"
      ]
     },
     "metadata": {
      "needs_background": "light"
     },
     "output_type": "display_data"
    },
    {
     "data": {
      "image/png": "[encoded data removed]",
      "text/plain": [
       "<Figure size 864x432 with 2 Axes>"
      ]
     },
     "metadata": {
      "needs_background": "light"
     },
     "output_type": "display_data"
    },
    {
     "data": {
      "image/png": "[encoded data removed]",
      "text/plain": [
       "<Figure size 864x432 with 2 Axes>"
      ]
     },
     "metadata": {
      "needs_background": "light"
     },
     "output_type": "display_data"
    },
    {
     "data": {
      "image/png": "[encoded data removed]",
      "text/plain": [
       "<Figure size 864x432 with 2 Axes>"
      ]
     },
     "metadata": {
      "needs_background": "light"
     },
     "output_type": "display_data"
    },
    {
     "data": {
      "image/png": "[encoded data removed]",
      "text/plain": [
       "<Figure size 864x432 with 2 Axes>"
      ]
     },
     "metadata": {
      "needs_background": "light"
     },
     "output_type": "display_data"
    },
    {
     "data": {
      "image/png": "[encoded data removed]",
      "text/plain": [
       "<Figure size 864x432 with 2 Axes>"
      ]
     },
     "metadata": {
      "needs_background": "light"
     },
     "output_type": "display_data"
    },
    {
     "data": {
      "image/png": "[encoded data removed]",
      "text/plain": [
       "<Figure size 864x432 with 2 Axes>"
      ]
     },
     "metadata": {
      "needs_background": "light"
     },
     "output_type": "display_data"
    }
   ],
   "source": [
    "# we can build on this analysis by plotting the distribution and boxplots for each column\n",
    "\n",
    "# we loop through all the columns\n",
    "for col in boston_X.columns:\n",
    "    # and for each column we create space for one row with 2 charts \n",
    "    f, axes = plt.subplots(1, 2, figsize=(12, 6))\n",
    "    # our first chart is a histogram and we set the title \n",
    "    boston_X[col].hist(bins = 30, ax = axes[0])\n",
    "    axes[0].set_title('Distribution of '+ col)\n",
    "    # our second column is the boxplot \n",
    "    boston_X.boxplot(column = col, ax = axes[1])\n",
    "    # we then use this to command to display the charts\n",
    "    plt.show()"
   ]
  },
  {
   "cell_type": "markdown",
   "metadata": {
    "colab_type": "text",
    "id": "6CL3CcD-KwMk"
   },
   "source": [
    "* A `histogram` tells is the number of times, or frequency, a value occurs within a `bin`, or bucket, that splits the data (and which we defined). A histogram shows the frequency with which values occur within each of these bins, and can tell us about the distribution of data. \n",
    "* A `boxplot` captures within the box the `interquartile range`, the range of values from Q1/25th percentile to Q3/75th percentile, and the median value. It also captures the `min` and `max` values of each feature.\n",
    "* Together, these charts show us the distribution of values for each feature. We can start to make judgements about how to treat the data, for example whether we want to deal with outliers; or whether we want to normalize the data."
   ]
  },
  {
   "cell_type": "code",
   "execution_count": 9,
   "metadata": {
    "ExecuteTime": {
     "end_time": "2019-06-15T21:54:08.606107Z",
     "start_time": "2019-06-15T21:54:08.603484Z"
    },
    "colab": {},
    "colab_type": "code",
    "id": "gEF0gQVARwl4"
   },
   "outputs": [],
   "source": [
    "# we can now look at our target variable \n",
    "boston_y = boston.target"
   ]
  },
  {
   "cell_type": "code",
   "execution_count": 10,
   "metadata": {
    "ExecuteTime": {
     "end_time": "2019-06-15T21:54:08.831372Z",
     "start_time": "2019-06-15T21:54:08.607882Z"
    },
    "colab": {
     "base_uri": "https://localhost:8080/",
     "height": 362
    },
    "colab_type": "code",
    "id": "1Ey1Bd3cRwmG",
    "outputId": "a871f10e-50a0-488f-b2ed-582f915c0394"
   },
   "outputs": [
    {
     "data": {
      "image/png": "[encoded data removed]",
      "text/plain": [
       "<Figure size 432x288 with 1 Axes>"
      ]
     },
     "metadata": {
      "needs_background": "light"
     },
     "output_type": "display_data"
    }
   ],
   "source": [
    "# we can plot a histogram in a slightly different way \n",
    "plt.hist(boston_y, bins = 40)\n",
    "plt.title('Housing price distribution, $K')\n",
    "plt.show()"
   ]
  },
  {
   "cell_type": "code",
   "execution_count": 11,
   "metadata": {
    "ExecuteTime": {
     "end_time": "2019-06-15T21:54:08.919937Z",
     "start_time": "2019-06-15T21:54:08.832900Z"
    },
    "colab": {
     "base_uri": "https://localhost:8080/",
     "height": 362
    },
    "colab_type": "code",
    "id": "NVLEgbDQRwmK",
    "outputId": "d6545c49-f571-4a05-f7eb-8ce2e167e55c"
   },
   "outputs": [
    {
     "data": {
      "image/png": "[encoded data removed]",
      "text/plain": [
       "<Figure size 432x288 with 1 Axes>"
      ]
     },
     "metadata": {
      "needs_background": "light"
     },
     "output_type": "display_data"
    }
   ],
   "source": [
    "# and the same for the boxplot\n",
    "plt.boxplot(boston_y)\n",
    "plt.title('Box plot for housing price.')\n",
    "plt.show()"
   ]
  },
  {
   "cell_type": "code",
   "execution_count": 12,
   "metadata": {
    "ExecuteTime": {
     "end_time": "2019-06-15T21:54:09.046016Z",
     "start_time": "2019-06-15T21:54:08.921613Z"
    },
    "colab": {
     "base_uri": "https://localhost:8080/",
     "height": 361
    },
    "colab_type": "code",
    "id": "ZLKEzT6cRwmc",
    "outputId": "bbf75c60-1f8b-4263-8116-fccf583c1beb"
   },
   "outputs": [
    {
     "data": {
      "image/png": "[encoded data removed]",
      "text/plain": [
       "<Figure size 720x360 with 1 Axes>"
      ]
     },
     "metadata": {
      "needs_background": "light"
     },
     "output_type": "display_data"
    }
   ],
   "source": [
    "# another thing we can do is plot a boxplot of one variable against the target variable \n",
    "# it is interesting to see how house value distribution differs by CHAS, the categorical variable \n",
    "\n",
    "# here we create a grouped dataframe that includes the target variable\n",
    "grouped_df = boston_X.copy()   # note we create a copy of the data here so that any changes don't impact the original data\n",
    "grouped_df['target'] = boston_y.copy()\n",
    "\n",
    "# we then plot it here\n",
    "f, axes = plt.subplots(1, 1, figsize=(10, 5))   \n",
    "grouped_df.boxplot(column='target', by = 'CHAS', ax = axes)\n",
    "plt.show()"
   ]
  },
  {
   "cell_type": "markdown",
   "metadata": {
    "colab_type": "text",
    "id": "EAvzi4hVRwmj"
   },
   "source": [
    "* The `interquartile range`for houses next to the river is higher than for those houses not next to the river, and the `min` and `max` values differ too.\n",
    "* This suggests this could be an important variable for us to include in our model, given that as it differs, the target value distribution changes."
   ]
  },
  {
   "cell_type": "code",
   "execution_count": 13,
   "metadata": {
    "ExecuteTime": {
     "end_time": "2019-06-15T21:54:09.885555Z",
     "start_time": "2019-06-15T21:54:09.047371Z"
    },
    "colab": {
     "base_uri": "https://localhost:8080/",
     "height": 609
    },
    "colab_type": "code",
    "id": "iyVI1CCERwmn",
    "outputId": "4b9c6f8f-57ef-4941-f33b-1e7f73a803cf"
   },
   "outputs": [
    {
     "data": {
      "text/plain": [
       "<matplotlib.axes._subplots.AxesSubplot at 0x1a1d98c6d8>"
      ]
     },
     "execution_count": 13,
     "metadata": {},
     "output_type": "execute_result"
    },
    {
     "data": {
      "image/png": "[encoded data removed]",
      "text/plain": [
       "<Figure size 1080x720 with 2 Axes>"
      ]
     },
     "metadata": {
      "needs_background": "light"
     },
     "output_type": "display_data"
    }
   ],
   "source": [
    "# we can extend this sort of analysis by creating a heatmap\n",
    "# this shows the correlation between the features and target\n",
    "\n",
    "# first we compute the correlation\n",
    "corr = grouped_df.corr(method='pearson')\n",
    "# and plot our figure size\n",
    "plt.figure(figsize = (15, 10))\n",
    "# and use seaborn to fill this figure with a heatmap\n",
    "sns.heatmap(corr, annot = True)"
   ]
  },
  {
   "cell_type": "markdown",
   "metadata": {
    "colab_type": "text",
    "id": "igkBCvFpRwms"
   },
   "source": [
    "* We will let you review this heatmap to see what features are important for modelling and why. "
   ]
  },
  {
   "cell_type": "code",
   "execution_count": 14,
   "metadata": {
    "ExecuteTime": {
     "end_time": "2019-06-15T21:54:09.889030Z",
     "start_time": "2019-06-15T21:54:09.886825Z"
    },
    "colab": {
     "base_uri": "https://localhost:8080/",
     "height": 1748
    },
    "colab_type": "code",
    "id": "gv0rCefPRwmX",
    "outputId": "edd10da2-4b5e-41fd-ce6c-8081cdc82a25"
   },
   "outputs": [],
   "source": [
    "# OPTIONAL: below is code that generate a pairplot using seaborn \n",
    "# look up what a pairplot is and see if you can interpret the output of the code below\n",
    "\n",
    "#sns.pairplot(grouped_df)#, hue=\"target\")"
   ]
  },
  {
   "cell_type": "markdown",
   "metadata": {
    "colab_type": "text",
    "id": "_lFYZkbvRwnC"
   },
   "source": [
    "#### Preprocess the data\n",
    "* We proprocess the data to ensure it is a suitable state for modelling. The sort of things that we do to preprocess the data includes:\n",
    "  * *Dealing with missing values*, where we identify what, if, any missing data we have and how to deal with it. For example, we may replace missing values with the mean value for that feature, or by the average of the neighbouring values. \n",
    "    * `pandas` has a number of options for filling in missing data that is worth exploring\n",
    "    * We can also use `k-nearest neighbour`to help us predict what the missing values should be, or `sklearn Imputer` function (amongst other ways)\n",
    "  * *Treat categorical values*, by converting them into a numerical representation that can be modelled.\n",
    "    * There are a number of different ways to do this in `sklearn` and `pandas`\n",
    "  * *Normalise the data*, for example by ensuring the data is, for example all on the scale (such as within two defined values); normally distributed; has a zero-mean, etc. This is sometimes necessary for the ML models to work, and can also help speed up the time it takes for the models to run.  \n",
    "    * Again, `sklearn` and `pandas` have in-built functions to help you do this.\n",
    "* In this notebook, we will look to remove `outliers`, which are values that might be erroneous and which can over-influence the model, and `normalize` the data"
   ]
  },
  {
   "cell_type": "code",
   "execution_count": 15,
   "metadata": {
    "ExecuteTime": {
     "end_time": "2019-06-15T21:54:09.895633Z",
     "start_time": "2019-06-15T21:54:09.890743Z"
    },
    "colab": {},
    "colab_type": "code",
    "id": "Me7QTjz5Rwmx"
   },
   "outputs": [],
   "source": [
    "# lets start by removing outliers\n",
    "\n",
    "# here we define the columns where we have identified there could be outliers\n",
    "numeric_columns = ['CRIM', 'ZN', 'INDUS', 'NOX', 'RM', 'AGE', 'DIS', 'RAD', 'TAX', 'PTRATIO', 'B', 'LSTAT']\n",
    "\n",
    "# this function can be used on any dataset to return a list of index values for the outliers \n",
    "def get_outliers(data, columns):\n",
    "    # we create an empty list\n",
    "    outlier_idxs = []\n",
    "    for col in columns:\n",
    "        elements = data[col]\n",
    "        # we get the mean value for each column\n",
    "        mean = elements.mean()\n",
    "        # and the standard deviation of the column\n",
    "        sd = elements.std()\n",
    "        # we then get the index values of all values higher or lower than the mean +/- 2 standard deviations\n",
    "        outliers_mask = data[(data[col] > mean + 3*sd) | (data[col]  < mean  - 3*sd)].index\n",
    "        # and add those values to our list\n",
    "        outlier_idxs  += [x for x in outliers_mask]\n",
    "    return list(set(outlier_idxs))\n"
   ]
  },
  {
   "cell_type": "code",
   "execution_count": 16,
   "metadata": {
    "ExecuteTime": {
     "end_time": "2019-06-15T21:54:09.916792Z",
     "start_time": "2019-06-15T21:54:09.897305Z"
    },
    "colab": {
     "base_uri": "https://localhost:8080/",
     "height": 1003
    },
    "colab_type": "code",
    "id": "ZHyG6JKrRwm0",
    "outputId": "710f9532-440d-4583-a90b-32fbc7ae373e"
   },
   "outputs": [
    {
     "data": {
      "text/plain": [
       "[256,\n",
       " 257,\n",
       " 262,\n",
       " 141,\n",
       " 398,\n",
       " 404,\n",
       " 405,\n",
       " 406,\n",
       " 410,\n",
       " 283,\n",
       " 284,\n",
       " 411,\n",
       " 414,\n",
       " 412,\n",
       " 415,\n",
       " 416,\n",
       " 418,\n",
       " 419,\n",
       " 423,\n",
       " 424,\n",
       " 425,\n",
       " 426,\n",
       " 427,\n",
       " 429,\n",
       " 431,\n",
       " 436,\n",
       " 437,\n",
       " 438,\n",
       " 55,\n",
       " 56,\n",
       " 57,\n",
       " 445,\n",
       " 450,\n",
       " 454,\n",
       " 199,\n",
       " 200,\n",
       " 201,\n",
       " 202,\n",
       " 203,\n",
       " 204,\n",
       " 455,\n",
       " 456,\n",
       " 457,\n",
       " 466,\n",
       " 347,\n",
       " 351,\n",
       " 352,\n",
       " 353,\n",
       " 225,\n",
       " 354,\n",
       " 355,\n",
       " 102,\n",
       " 364,\n",
       " 365,\n",
       " 367,\n",
       " 373,\n",
       " 374,\n",
       " 380]"
      ]
     },
     "execution_count": 16,
     "metadata": {},
     "output_type": "execute_result"
    }
   ],
   "source": [
    "# we call the function we just created on the boston dataset\n",
    "boston_outliers = get_outliers(boston_X, numeric_columns)\n",
    "boston_outliers"
   ]
  },
  {
   "cell_type": "code",
   "execution_count": 17,
   "metadata": {
    "ExecuteTime": {
     "end_time": "2019-06-15T21:54:09.923473Z",
     "start_time": "2019-06-15T21:54:09.918317Z"
    },
    "colab": {},
    "colab_type": "code",
    "id": "g4fqbCRJRwm4"
   },
   "outputs": [],
   "source": [
    "# and drop those values from our feature and target values\n",
    "boston_X = boston_X.drop(boston_outliers, axis = 0)\n",
    "boston_y = pd.DataFrame(boston_y).drop(boston_outliers, axis = 0).values.ravel()"
   ]
  },
  {
   "cell_type": "code",
   "execution_count": 18,
   "metadata": {
    "ExecuteTime": {
     "end_time": "2019-06-15T21:54:09.929836Z",
     "start_time": "2019-06-15T21:54:09.925821Z"
    },
    "colab": {
     "base_uri": "https://localhost:8080/",
     "height": 51
    },
    "colab_type": "code",
    "id": "pdedvCKLRwm7",
    "outputId": "a9508f64-938c-4531-cafc-8443524a9b64"
   },
   "outputs": [
    {
     "name": "stdout",
     "output_type": "stream",
     "text": [
      "(448, 13)\n",
      "(448,)\n"
     ]
    }
   ],
   "source": [
    "# we can check that this code has worked by looking at the shape of our data \n",
    "print (boston_X.shape)\n",
    "print (boston_y.shape)"
   ]
  },
  {
   "cell_type": "code",
   "execution_count": 19,
   "metadata": {
    "ExecuteTime": {
     "end_time": "2019-06-15T21:54:09.951497Z",
     "start_time": "2019-06-15T21:54:09.931810Z"
    },
    "colab": {
     "base_uri": "https://localhost:8080/",
     "height": 359
    },
    "colab_type": "code",
    "id": "Voepu7b504DC",
    "outputId": "62bd091b-6e5e-4637-ea0d-11bf2e6061d0"
   },
   "outputs": [
    {
     "data": {
      "text/html": [
       "<div>\n",
       "<style scoped>\n",
       "    .dataframe tbody tr th:only-of-type {\n",
       "        vertical-align: middle;\n",
       "    }\n",
       "\n",
       "    .dataframe tbody tr th {\n",
       "        vertical-align: top;\n",
       "    }\n",
       "\n",
       "    .dataframe thead th {\n",
       "        text-align: right;\n",
       "    }\n",
       "</style>\n",
       "<table border=\"1\" class=\"dataframe\">\n",
       "  <thead>\n",
       "    <tr style=\"text-align: right;\">\n",
       "      <th></th>\n",
       "      <th>CRIM</th>\n",
       "      <th>ZN</th>\n",
       "      <th>INDUS</th>\n",
       "      <th>CHAS</th>\n",
       "      <th>NOX</th>\n",
       "      <th>RM</th>\n",
       "      <th>AGE</th>\n",
       "      <th>DIS</th>\n",
       "      <th>RAD</th>\n",
       "      <th>TAX</th>\n",
       "      <th>PTRATIO</th>\n",
       "      <th>B</th>\n",
       "      <th>LSTAT</th>\n",
       "    </tr>\n",
       "  </thead>\n",
       "  <tbody>\n",
       "    <tr>\n",
       "      <th>0</th>\n",
       "      <td>0.00632</td>\n",
       "      <td>18.0</td>\n",
       "      <td>2.31</td>\n",
       "      <td>0.0</td>\n",
       "      <td>0.538</td>\n",
       "      <td>6.575</td>\n",
       "      <td>65.2</td>\n",
       "      <td>4.0900</td>\n",
       "      <td>1.0</td>\n",
       "      <td>296.0</td>\n",
       "      <td>15.3</td>\n",
       "      <td>396.90</td>\n",
       "      <td>4.98</td>\n",
       "    </tr>\n",
       "    <tr>\n",
       "      <th>1</th>\n",
       "      <td>0.02731</td>\n",
       "      <td>0.0</td>\n",
       "      <td>7.07</td>\n",
       "      <td>0.0</td>\n",
       "      <td>0.469</td>\n",
       "      <td>6.421</td>\n",
       "      <td>78.9</td>\n",
       "      <td>4.9671</td>\n",
       "      <td>2.0</td>\n",
       "      <td>242.0</td>\n",
       "      <td>17.8</td>\n",
       "      <td>396.90</td>\n",
       "      <td>9.14</td>\n",
       "    </tr>\n",
       "    <tr>\n",
       "      <th>2</th>\n",
       "      <td>0.02729</td>\n",
       "      <td>0.0</td>\n",
       "      <td>7.07</td>\n",
       "      <td>0.0</td>\n",
       "      <td>0.469</td>\n",
       "      <td>7.185</td>\n",
       "      <td>61.1</td>\n",
       "      <td>4.9671</td>\n",
       "      <td>2.0</td>\n",
       "      <td>242.0</td>\n",
       "      <td>17.8</td>\n",
       "      <td>392.83</td>\n",
       "      <td>4.03</td>\n",
       "    </tr>\n",
       "    <tr>\n",
       "      <th>3</th>\n",
       "      <td>0.03237</td>\n",
       "      <td>0.0</td>\n",
       "      <td>2.18</td>\n",
       "      <td>0.0</td>\n",
       "      <td>0.458</td>\n",
       "      <td>6.998</td>\n",
       "      <td>45.8</td>\n",
       "      <td>6.0622</td>\n",
       "      <td>3.0</td>\n",
       "      <td>222.0</td>\n",
       "      <td>18.7</td>\n",
       "      <td>394.63</td>\n",
       "      <td>2.94</td>\n",
       "    </tr>\n",
       "    <tr>\n",
       "      <th>4</th>\n",
       "      <td>0.06905</td>\n",
       "      <td>0.0</td>\n",
       "      <td>2.18</td>\n",
       "      <td>0.0</td>\n",
       "      <td>0.458</td>\n",
       "      <td>7.147</td>\n",
       "      <td>54.2</td>\n",
       "      <td>6.0622</td>\n",
       "      <td>3.0</td>\n",
       "      <td>222.0</td>\n",
       "      <td>18.7</td>\n",
       "      <td>396.90</td>\n",
       "      <td>5.33</td>\n",
       "    </tr>\n",
       "    <tr>\n",
       "      <th>5</th>\n",
       "      <td>0.02985</td>\n",
       "      <td>0.0</td>\n",
       "      <td>2.18</td>\n",
       "      <td>0.0</td>\n",
       "      <td>0.458</td>\n",
       "      <td>6.430</td>\n",
       "      <td>58.7</td>\n",
       "      <td>6.0622</td>\n",
       "      <td>3.0</td>\n",
       "      <td>222.0</td>\n",
       "      <td>18.7</td>\n",
       "      <td>394.12</td>\n",
       "      <td>5.21</td>\n",
       "    </tr>\n",
       "    <tr>\n",
       "      <th>6</th>\n",
       "      <td>0.08829</td>\n",
       "      <td>12.5</td>\n",
       "      <td>7.87</td>\n",
       "      <td>0.0</td>\n",
       "      <td>0.524</td>\n",
       "      <td>6.012</td>\n",
       "      <td>66.6</td>\n",
       "      <td>5.5605</td>\n",
       "      <td>5.0</td>\n",
       "      <td>311.0</td>\n",
       "      <td>15.2</td>\n",
       "      <td>395.60</td>\n",
       "      <td>12.43</td>\n",
       "    </tr>\n",
       "    <tr>\n",
       "      <th>7</th>\n",
       "      <td>0.14455</td>\n",
       "      <td>12.5</td>\n",
       "      <td>7.87</td>\n",
       "      <td>0.0</td>\n",
       "      <td>0.524</td>\n",
       "      <td>6.172</td>\n",
       "      <td>96.1</td>\n",
       "      <td>5.9505</td>\n",
       "      <td>5.0</td>\n",
       "      <td>311.0</td>\n",
       "      <td>15.2</td>\n",
       "      <td>396.90</td>\n",
       "      <td>19.15</td>\n",
       "    </tr>\n",
       "    <tr>\n",
       "      <th>8</th>\n",
       "      <td>0.21124</td>\n",
       "      <td>12.5</td>\n",
       "      <td>7.87</td>\n",
       "      <td>0.0</td>\n",
       "      <td>0.524</td>\n",
       "      <td>5.631</td>\n",
       "      <td>100.0</td>\n",
       "      <td>6.0821</td>\n",
       "      <td>5.0</td>\n",
       "      <td>311.0</td>\n",
       "      <td>15.2</td>\n",
       "      <td>386.63</td>\n",
       "      <td>29.93</td>\n",
       "    </tr>\n",
       "    <tr>\n",
       "      <th>9</th>\n",
       "      <td>0.17004</td>\n",
       "      <td>12.5</td>\n",
       "      <td>7.87</td>\n",
       "      <td>0.0</td>\n",
       "      <td>0.524</td>\n",
       "      <td>6.004</td>\n",
       "      <td>85.9</td>\n",
       "      <td>6.5921</td>\n",
       "      <td>5.0</td>\n",
       "      <td>311.0</td>\n",
       "      <td>15.2</td>\n",
       "      <td>386.71</td>\n",
       "      <td>17.10</td>\n",
       "    </tr>\n",
       "  </tbody>\n",
       "</table>\n",
       "</div>"
      ],
      "text/plain": [
       "      CRIM    ZN  INDUS  CHAS    NOX     RM    AGE     DIS  RAD    TAX  \\\n",
       "0  0.00632  18.0   2.31   0.0  0.538  6.575   65.2  4.0900  1.0  296.0   \n",
       "1  0.02731   0.0   7.07   0.0  0.469  6.421   78.9  4.9671  2.0  242.0   \n",
       "2  0.02729   0.0   7.07   0.0  0.469  7.185   61.1  4.9671  2.0  242.0   \n",
       "3  0.03237   0.0   2.18   0.0  0.458  6.998   45.8  6.0622  3.0  222.0   \n",
       "4  0.06905   0.0   2.18   0.0  0.458  7.147   54.2  6.0622  3.0  222.0   \n",
       "5  0.02985   0.0   2.18   0.0  0.458  6.430   58.7  6.0622  3.0  222.0   \n",
       "6  0.08829  12.5   7.87   0.0  0.524  6.012   66.6  5.5605  5.0  311.0   \n",
       "7  0.14455  12.5   7.87   0.0  0.524  6.172   96.1  5.9505  5.0  311.0   \n",
       "8  0.21124  12.5   7.87   0.0  0.524  5.631  100.0  6.0821  5.0  311.0   \n",
       "9  0.17004  12.5   7.87   0.0  0.524  6.004   85.9  6.5921  5.0  311.0   \n",
       "\n",
       "   PTRATIO       B  LSTAT  \n",
       "0     15.3  396.90   4.98  \n",
       "1     17.8  396.90   9.14  \n",
       "2     17.8  392.83   4.03  \n",
       "3     18.7  394.63   2.94  \n",
       "4     18.7  396.90   5.33  \n",
       "5     18.7  394.12   5.21  \n",
       "6     15.2  395.60  12.43  \n",
       "7     15.2  396.90  19.15  \n",
       "8     15.2  386.63  29.93  \n",
       "9     15.2  386.71  17.10  "
      ]
     },
     "execution_count": 19,
     "metadata": {},
     "output_type": "execute_result"
    }
   ],
   "source": [
    "# we can also create a function to normalize our data\n",
    "# first lets look at the data before normalisation\n",
    "boston_X[0:10]"
   ]
  },
  {
   "cell_type": "code",
   "execution_count": 20,
   "metadata": {
    "ExecuteTime": {
     "end_time": "2019-06-15T21:54:09.957749Z",
     "start_time": "2019-06-15T21:54:09.953755Z"
    },
    "colab": {},
    "colab_type": "code",
    "id": "G65uHpDoRwnE"
   },
   "outputs": [],
   "source": [
    "# this function loops through columns in a data set and defines a predefined scaler to each\n",
    "def scale_numeric(data, numeric_columns, scaler):\n",
    "    for col in numeric_columns:\n",
    "        data[col] = scaler.fit_transform(data[col].values.reshape(-1, 1))\n",
    "    return data"
   ]
  },
  {
   "cell_type": "code",
   "execution_count": 21,
   "metadata": {
    "ExecuteTime": {
     "end_time": "2019-06-15T21:54:09.975799Z",
     "start_time": "2019-06-15T21:54:09.960248Z"
    },
    "colab": {},
    "colab_type": "code",
    "id": "fwSyaoRWRwnI"
   },
   "outputs": [],
   "source": [
    "# we can now define the scaler we want to use and apply it to our dataset \n",
    "\n",
    "# a good exercise would be to research waht StandardScaler does - it is from the scikit learn library \n",
    "scaler = StandardScaler()\n",
    "boston_X = scale_numeric(boston_X, numeric_columns, scaler)"
   ]
  },
  {
   "cell_type": "code",
   "execution_count": 22,
   "metadata": {
    "ExecuteTime": {
     "end_time": "2019-06-15T21:54:09.994980Z",
     "start_time": "2019-06-15T21:54:09.977356Z"
    },
    "colab": {
     "base_uri": "https://localhost:8080/",
     "height": 359
    },
    "colab_type": "code",
    "id": "IZBAAGOsXzJP",
    "outputId": "08be0b5f-865b-45f2-b92e-1c0e5a57fcbb"
   },
   "outputs": [
    {
     "data": {
      "text/html": [
       "<div>\n",
       "<style scoped>\n",
       "    .dataframe tbody tr th:only-of-type {\n",
       "        vertical-align: middle;\n",
       "    }\n",
       "\n",
       "    .dataframe tbody tr th {\n",
       "        vertical-align: top;\n",
       "    }\n",
       "\n",
       "    .dataframe thead th {\n",
       "        text-align: right;\n",
       "    }\n",
       "</style>\n",
       "<table border=\"1\" class=\"dataframe\">\n",
       "  <thead>\n",
       "    <tr style=\"text-align: right;\">\n",
       "      <th></th>\n",
       "      <th>CRIM</th>\n",
       "      <th>ZN</th>\n",
       "      <th>INDUS</th>\n",
       "      <th>CHAS</th>\n",
       "      <th>NOX</th>\n",
       "      <th>RM</th>\n",
       "      <th>AGE</th>\n",
       "      <th>DIS</th>\n",
       "      <th>RAD</th>\n",
       "      <th>TAX</th>\n",
       "      <th>PTRATIO</th>\n",
       "      <th>B</th>\n",
       "      <th>LSTAT</th>\n",
       "    </tr>\n",
       "  </thead>\n",
       "  <tbody>\n",
       "    <tr>\n",
       "      <th>0</th>\n",
       "      <td>-0.504832</td>\n",
       "      <td>0.452338</td>\n",
       "      <td>-1.287999</td>\n",
       "      <td>0.0</td>\n",
       "      <td>-0.112050</td>\n",
       "      <td>0.476523</td>\n",
       "      <td>-0.109538</td>\n",
       "      <td>0.156542</td>\n",
       "      <td>-0.945356</td>\n",
       "      <td>-0.604081</td>\n",
       "      <td>-1.450825</td>\n",
       "      <td>0.440289</td>\n",
       "      <td>-1.119947</td>\n",
       "    </tr>\n",
       "    <tr>\n",
       "      <th>1</th>\n",
       "      <td>-0.500421</td>\n",
       "      <td>-0.483198</td>\n",
       "      <td>-0.581070</td>\n",
       "      <td>0.0</td>\n",
       "      <td>-0.719553</td>\n",
       "      <td>0.229485</td>\n",
       "      <td>0.384908</td>\n",
       "      <td>0.611427</td>\n",
       "      <td>-0.822846</td>\n",
       "      <td>-0.940064</td>\n",
       "      <td>-0.280299</td>\n",
       "      <td>0.440289</td>\n",
       "      <td>-0.477428</td>\n",
       "    </tr>\n",
       "    <tr>\n",
       "      <th>2</th>\n",
       "      <td>-0.500425</td>\n",
       "      <td>-0.483198</td>\n",
       "      <td>-0.581070</td>\n",
       "      <td>0.0</td>\n",
       "      <td>-0.719553</td>\n",
       "      <td>1.455050</td>\n",
       "      <td>-0.257510</td>\n",
       "      <td>0.611427</td>\n",
       "      <td>-0.822846</td>\n",
       "      <td>-0.940064</td>\n",
       "      <td>-0.280299</td>\n",
       "      <td>0.361572</td>\n",
       "      <td>-1.266676</td>\n",
       "    </tr>\n",
       "    <tr>\n",
       "      <th>3</th>\n",
       "      <td>-0.499358</td>\n",
       "      <td>-0.483198</td>\n",
       "      <td>-1.307306</td>\n",
       "      <td>0.0</td>\n",
       "      <td>-0.816402</td>\n",
       "      <td>1.155075</td>\n",
       "      <td>-0.809702</td>\n",
       "      <td>1.179373</td>\n",
       "      <td>-0.700335</td>\n",
       "      <td>-1.064503</td>\n",
       "      <td>0.141090</td>\n",
       "      <td>0.396385</td>\n",
       "      <td>-1.435028</td>\n",
       "    </tr>\n",
       "    <tr>\n",
       "      <th>4</th>\n",
       "      <td>-0.491650</td>\n",
       "      <td>-0.483198</td>\n",
       "      <td>-1.307306</td>\n",
       "      <td>0.0</td>\n",
       "      <td>-0.816402</td>\n",
       "      <td>1.394092</td>\n",
       "      <td>-0.506538</td>\n",
       "      <td>1.179373</td>\n",
       "      <td>-0.700335</td>\n",
       "      <td>-1.064503</td>\n",
       "      <td>0.141090</td>\n",
       "      <td>0.440289</td>\n",
       "      <td>-1.065889</td>\n",
       "    </tr>\n",
       "    <tr>\n",
       "      <th>5</th>\n",
       "      <td>-0.499887</td>\n",
       "      <td>-0.483198</td>\n",
       "      <td>-1.307306</td>\n",
       "      <td>0.0</td>\n",
       "      <td>-0.816402</td>\n",
       "      <td>0.243923</td>\n",
       "      <td>-0.344129</td>\n",
       "      <td>1.179373</td>\n",
       "      <td>-0.700335</td>\n",
       "      <td>-1.064503</td>\n",
       "      <td>0.141090</td>\n",
       "      <td>0.386522</td>\n",
       "      <td>-1.084423</td>\n",
       "    </tr>\n",
       "    <tr>\n",
       "      <th>6</th>\n",
       "      <td>-0.487607</td>\n",
       "      <td>0.166480</td>\n",
       "      <td>-0.462258</td>\n",
       "      <td>0.0</td>\n",
       "      <td>-0.235311</td>\n",
       "      <td>-0.426609</td>\n",
       "      <td>-0.059010</td>\n",
       "      <td>0.919179</td>\n",
       "      <td>-0.455313</td>\n",
       "      <td>-0.510752</td>\n",
       "      <td>-1.497647</td>\n",
       "      <td>0.415146</td>\n",
       "      <td>0.030718</td>\n",
       "    </tr>\n",
       "    <tr>\n",
       "      <th>7</th>\n",
       "      <td>-0.475784</td>\n",
       "      <td>0.166480</td>\n",
       "      <td>-0.462258</td>\n",
       "      <td>0.0</td>\n",
       "      <td>-0.235311</td>\n",
       "      <td>-0.169946</td>\n",
       "      <td>1.005672</td>\n",
       "      <td>1.121443</td>\n",
       "      <td>-0.455313</td>\n",
       "      <td>-0.510752</td>\n",
       "      <td>-1.497647</td>\n",
       "      <td>0.440289</td>\n",
       "      <td>1.068633</td>\n",
       "    </tr>\n",
       "    <tr>\n",
       "      <th>8</th>\n",
       "      <td>-0.461770</td>\n",
       "      <td>0.166480</td>\n",
       "      <td>-0.462258</td>\n",
       "      <td>0.0</td>\n",
       "      <td>-0.235311</td>\n",
       "      <td>-1.037787</td>\n",
       "      <td>1.146427</td>\n",
       "      <td>1.189694</td>\n",
       "      <td>-0.455313</td>\n",
       "      <td>-0.510752</td>\n",
       "      <td>-1.497647</td>\n",
       "      <td>0.241660</td>\n",
       "      <td>2.733621</td>\n",
       "    </tr>\n",
       "    <tr>\n",
       "      <th>9</th>\n",
       "      <td>-0.470428</td>\n",
       "      <td>0.166480</td>\n",
       "      <td>-0.462258</td>\n",
       "      <td>0.0</td>\n",
       "      <td>-0.235311</td>\n",
       "      <td>-0.439442</td>\n",
       "      <td>0.637545</td>\n",
       "      <td>1.454193</td>\n",
       "      <td>-0.455313</td>\n",
       "      <td>-0.510752</td>\n",
       "      <td>-1.497647</td>\n",
       "      <td>0.243207</td>\n",
       "      <td>0.752007</td>\n",
       "    </tr>\n",
       "  </tbody>\n",
       "</table>\n",
       "</div>"
      ],
      "text/plain": [
       "       CRIM        ZN     INDUS  CHAS       NOX        RM       AGE       DIS  \\\n",
       "0 -0.504832  0.452338 -1.287999   0.0 -0.112050  0.476523 -0.109538  0.156542   \n",
       "1 -0.500421 -0.483198 -0.581070   0.0 -0.719553  0.229485  0.384908  0.611427   \n",
       "2 -0.500425 -0.483198 -0.581070   0.0 -0.719553  1.455050 -0.257510  0.611427   \n",
       "3 -0.499358 -0.483198 -1.307306   0.0 -0.816402  1.155075 -0.809702  1.179373   \n",
       "4 -0.491650 -0.483198 -1.307306   0.0 -0.816402  1.394092 -0.506538  1.179373   \n",
       "5 -0.499887 -0.483198 -1.307306   0.0 -0.816402  0.243923 -0.344129  1.179373   \n",
       "6 -0.487607  0.166480 -0.462258   0.0 -0.235311 -0.426609 -0.059010  0.919179   \n",
       "7 -0.475784  0.166480 -0.462258   0.0 -0.235311 -0.169946  1.005672  1.121443   \n",
       "8 -0.461770  0.166480 -0.462258   0.0 -0.235311 -1.037787  1.146427  1.189694   \n",
       "9 -0.470428  0.166480 -0.462258   0.0 -0.235311 -0.439442  0.637545  1.454193   \n",
       "\n",
       "        RAD       TAX   PTRATIO         B     LSTAT  \n",
       "0 -0.945356 -0.604081 -1.450825  0.440289 -1.119947  \n",
       "1 -0.822846 -0.940064 -0.280299  0.440289 -0.477428  \n",
       "2 -0.822846 -0.940064 -0.280299  0.361572 -1.266676  \n",
       "3 -0.700335 -1.064503  0.141090  0.396385 -1.435028  \n",
       "4 -0.700335 -1.064503  0.141090  0.440289 -1.065889  \n",
       "5 -0.700335 -1.064503  0.141090  0.386522 -1.084423  \n",
       "6 -0.455313 -0.510752 -1.497647  0.415146  0.030718  \n",
       "7 -0.455313 -0.510752 -1.497647  0.440289  1.068633  \n",
       "8 -0.455313 -0.510752 -1.497647  0.241660  2.733621  \n",
       "9 -0.455313 -0.510752 -1.497647  0.243207  0.752007  "
      ]
     },
     "execution_count": 22,
     "metadata": {},
     "output_type": "execute_result"
    }
   ],
   "source": [
    "# here we can see the result \n",
    "boston_X[0:10]"
   ]
  },
  {
   "cell_type": "markdown",
   "metadata": {
    "colab_type": "text",
    "id": "eEkoVkHhRwnM"
   },
   "source": [
    "###  Step 3: Split the data\n",
    "* In order to train our model and see how well it performs, we need to split our data into training and testing sets.\n",
    "* We can then train our model on the training set, and test how well it has generalised to the data on the test set.\n",
    "* There are a number of options for how we can split the data, and for what proportion of our original data we set aside for the test set."
   ]
  },
  {
   "cell_type": "code",
   "execution_count": 23,
   "metadata": {
    "ExecuteTime": {
     "end_time": "2019-06-15T21:54:10.004094Z",
     "start_time": "2019-06-15T21:54:09.998704Z"
    },
    "colab": {},
    "colab_type": "code",
    "id": "aj-Kx5NKRwnN"
   },
   "outputs": [],
   "source": [
    "# a common way for splitting our dataset is using train_test_split \n",
    "\n",
    "# as an exercise, go to the scikit learn documentation to learn more about this function and the parameters available \n",
    "X_train, X_test, Y_train, Y_test = model_selection.train_test_split(boston_X, boston_y, test_size = 0.2, random_state = 5)"
   ]
  },
  {
   "cell_type": "code",
   "execution_count": 24,
   "metadata": {
    "ExecuteTime": {
     "end_time": "2019-06-15T21:54:10.012770Z",
     "start_time": "2019-06-15T21:54:10.007484Z"
    },
    "colab": {
     "base_uri": "https://localhost:8080/",
     "height": 153
    },
    "colab_type": "code",
    "id": "2wXJ5tHXE1Hy",
    "outputId": "18404713-7a05-46de-889a-9b0aa81b5ad8"
   },
   "outputs": [
    {
     "name": "stdout",
     "output_type": "stream",
     "text": [
      "Training Set:\n",
      "Number of datapoints:  358\n",
      "Number of features:  13\n",
      "\n",
      "\n",
      "Test Set:\n",
      "Number of datapoints:  90\n",
      "Number of features:  13\n"
     ]
    }
   ],
   "source": [
    "# get shape of test and training sets\n",
    "print('Training Set:')\n",
    "print('Number of datapoints: ', X_train.shape[0])\n",
    "print('Number of features: ', X_train.shape[1])\n",
    "print('\\n')\n",
    "print('Test Set:')\n",
    "print('Number of datapoints: ', X_test.shape[0])\n",
    "print('Number of features: ', X_test.shape[1])"
   ]
  },
  {
   "cell_type": "markdown",
   "metadata": {
    "colab_type": "text",
    "id": "SKsLhTO9RwnT"
   },
   "source": [
    "###  Step 4: Choose a Baseline algorithm\n",
    "* Building a model in `sklearn` involves:\n",
    "  * defining / instantiating the model we want to use and its parameters (**Step 4**)\n",
    "  * fitting the model we have developed to our training set (**Step 5**)\n",
    "* We can then use the model to predict scores against our test set and assess how good it is\n",
    "* To do this, we need to define an evaluation metric (**Step 6**). There are a number of different options, and they differ for both regression and classification problems. This score will be what we use to select our best model, and the best parameters. \n",
    "* We will take through these steps now. As you will see, the code required to implement these steps is minimal, thanks to different methods provided for us by  `sklearn`.\n",
    "\n"
   ]
  },
  {
   "cell_type": "code",
   "execution_count": 25,
   "metadata": {
    "ExecuteTime": {
     "end_time": "2019-06-15T21:54:10.017257Z",
     "start_time": "2019-06-15T21:54:10.014365Z"
    },
    "colab": {},
    "colab_type": "code",
    "id": "UyfXHZ5ORwnU"
   },
   "outputs": [],
   "source": [
    "# we instantiate a model by storing it as a variable \n",
    "# this is the same process for most of the algorithms available in scikit learn (though you will need to import different libraries for different algorithms)\n",
    "\n",
    "# linear regression is a fairly simple algorithm compared to more complicate regression options, so provides a good baseline\n",
    "lm = LinearRegression()"
   ]
  },
  {
   "cell_type": "markdown",
   "metadata": {
    "colab_type": "text",
    "id": "4TlmWZq1Rwni"
   },
   "source": [
    "### Step 5: Train and Test the Model "
   ]
  },
  {
   "cell_type": "code",
   "execution_count": 26,
   "metadata": {
    "ExecuteTime": {
     "end_time": "2019-06-15T21:54:10.050274Z",
     "start_time": "2019-06-15T21:54:10.018999Z"
    },
    "colab": {
     "base_uri": "https://localhost:8080/",
     "height": 51
    },
    "colab_type": "code",
    "id": "zuN3ot2LRwnj",
    "outputId": "b8f880f1-e803-47b0-d686-3a47f3c79cd8"
   },
   "outputs": [
    {
     "data": {
      "text/plain": [
       "LinearRegression(copy_X=True, fit_intercept=True, n_jobs=None,\n",
       "         normalize=False)"
      ]
     },
     "execution_count": 26,
     "metadata": {},
     "output_type": "execute_result"
    }
   ],
   "source": [
    "# fitting the model to the data means to train our model on the data\n",
    "# the fit function takes both the X and y variables of the training data \n",
    "lm.fit(X_train, Y_train)"
   ]
  },
  {
   "cell_type": "code",
   "execution_count": 27,
   "metadata": {
    "ExecuteTime": {
     "end_time": "2019-06-15T21:54:10.055797Z",
     "start_time": "2019-06-15T21:54:10.052231Z"
    },
    "colab": {},
    "colab_type": "code",
    "id": "VuQeySC1II07"
   },
   "outputs": [],
   "source": [
    "# from this, we can generate a set of predictions on our unseen features, X_test\n",
    "Y_pred = lm.predict(X_test)"
   ]
  },
  {
   "cell_type": "markdown",
   "metadata": {
    "colab_type": "text",
    "id": "hOc-7BGoRwne"
   },
   "source": [
    "###  Step 6: Choose an evaluation metric\n",
    "* We then need to compare these predictions with the actual result and measure them in some way.\n",
    "* This is where the selection of evaluation metric is important. For regression, we measure the distance between the predicted and actual answers in some way. The shorter the distance, the more correct the model is. \n",
    "* We cover three common metrics below:\n",
    "  * `Mean Absolute Error`: which provides a mean score for all the predicted versus actual values as an absolute value \n",
    "  * `Means Squared Error`: which provides a mean score for all the predicted versus actual values as a square of the absolute value\n",
    "  * `R2`: which we recommend you research as an exercise to grow your knowledge. WIkipedia and `sklearn` document are a great place to start!"
   ]
  },
  {
   "cell_type": "code",
   "execution_count": 28,
   "metadata": {
    "ExecuteTime": {
     "end_time": "2019-06-15T21:54:10.062152Z",
     "start_time": "2019-06-15T21:54:10.057508Z"
    },
    "colab": {},
    "colab_type": "code",
    "id": "fTmXoHJhRwng"
   },
   "outputs": [],
   "source": [
    "def evaluate(Y_test, Y_pred):\n",
    "    # this block of code returns all the metrics we are interested in \n",
    "    mse = metrics.mean_squared_error(Y_test, Y_pred)\n",
    "    msa = metrics.mean_absolute_error(Y_test, Y_pred)\n",
    "    r2 = metrics.r2_score(Y_test, Y_pred)\n",
    "\n",
    "    print(\"Mean squared error: \", mse)\n",
    "    print(\"Mean absolute error: \", msa)\n",
    "    print(\"R^2 : \", r2)\n",
    "    \n",
    "    # this creates a chart plotting predicted and actual \n",
    "    plt.scatter(Y_test, Y_pred)\n",
    "    plt.xlabel(\"Prices: $Y_i$\")\n",
    "    plt.ylabel(\"Predicted prices: $\\hat{Y}_i$\")\n",
    "    plt.title(\"Prices vs Predicted prices: $Y_i$ vs $\\hat{Y}_i$\")"
   ]
  },
  {
   "cell_type": "code",
   "execution_count": 29,
   "metadata": {
    "ExecuteTime": {
     "end_time": "2019-06-15T21:54:10.401432Z",
     "start_time": "2019-06-15T21:54:10.063875Z"
    },
    "colab": {
     "base_uri": "https://localhost:8080/",
     "height": 438
    },
    "colab_type": "code",
    "id": "_Xbr5cSiRwnm",
    "outputId": "625b57c6-f891-4a44-9244-a46718c9b2e1"
   },
   "outputs": [
    {
     "name": "stdout",
     "output_type": "stream",
     "text": [
      "Mean squared error:  13.158908656674935\n",
      "Mean absolute error:  2.8268653411512905\n",
      "R^2 :  0.7869915239011871\n"
     ]
    },
    {
     "data": {
      "image/png": "[encoded data removed]",
      "text/plain": [
       "<Figure size 432x288 with 1 Axes>"
      ]
     },
     "metadata": {
      "needs_background": "light"
     },
     "output_type": "display_data"
    }
   ],
   "source": [
    "evaluate(Y_test, Y_pred)"
   ]
  },
  {
   "cell_type": "code",
   "execution_count": 30,
   "metadata": {
    "ExecuteTime": {
     "end_time": "2019-06-15T21:54:10.407653Z",
     "start_time": "2019-06-15T21:54:10.403049Z"
    },
    "colab": {
     "base_uri": "https://localhost:8080/",
     "height": 323
    },
    "colab_type": "code",
    "id": "YpUl5scCKZ3o",
    "outputId": "e15e1e2d-5d74-45a5-99bd-5a39e4ad7885"
   },
   "outputs": [
    {
     "data": {
      "text/plain": [
       "array([ 0.61815022,  0.10188528,  1.96974115,  1.32957458,  0.46245415,\n",
       "        2.2859455 ,  0.91916859,  7.1062457 ,  9.22831054,  4.70216155,\n",
       "        3.52437558,  0.66286857,  2.38128044,  3.47832943,  0.89431679,\n",
       "        0.01807006,  7.25788908,  5.00066761,  2.68404288,  2.65385496,\n",
       "        1.27704947,  4.86740923,  0.17900668,  6.18878595,  1.4519383 ,\n",
       "        0.32642787,  4.25205812,  1.43915006,  3.24521428,  2.54311986,\n",
       "        4.09744395,  3.34050551,  3.97263895,  0.63695502,  1.24296298,\n",
       "        2.28947025,  2.36887758,  3.10970291,  2.86238919,  1.5936312 ,\n",
       "        1.93147414,  2.85639651,  3.56234513,  2.67118044,  6.66912794,\n",
       "        0.49250903,  5.12654825,  2.97587702,  1.36248559,  2.12578898,\n",
       "        0.34624529,  4.63386662,  3.92704385,  0.55628404,  1.81880814,\n",
       "        0.34885722,  0.14744913,  0.2742296 ,  1.10065224,  2.59936719,\n",
       "        1.6136238 ,  2.98801583,  0.86120355, 10.51643204,  0.47283616,\n",
       "        0.12821568,  0.59900035,  3.30935282,  0.39589387,  6.41131125,\n",
       "        4.54212451,  3.64469175,  5.02751421,  0.03511886,  2.75545805,\n",
       "        1.52169308,  5.42909593,  4.8950458 ,  2.08019432,  1.04787566,\n",
       "        9.19682338,  4.63028501,  0.18631708,  7.50331386,  3.77277129,\n",
       "        4.65792306,  1.08389556,  3.82040109,  4.09910724,  3.10173921])"
      ]
     },
     "execution_count": 30,
     "metadata": {},
     "output_type": "execute_result"
    }
   ],
   "source": [
    "# we can explore how metrics are dervied in a little more detail by looking at MAE\n",
    "# here we will implement MAE using numpy, building it up step by step\n",
    "\n",
    "# with MAE, we get the absolute values of the error - as you can see this is of the difference between the actual and predicted values\n",
    "np.abs(Y_test - Y_pred)"
   ]
  },
  {
   "cell_type": "code",
   "execution_count": 31,
   "metadata": {
    "ExecuteTime": {
     "end_time": "2019-06-15T21:54:10.415436Z",
     "start_time": "2019-06-15T21:54:10.409249Z"
    },
    "colab": {
     "base_uri": "https://localhost:8080/",
     "height": 34
    },
    "colab_type": "code",
    "id": "vYIgygxBK9tZ",
    "outputId": "5b650f53-25f1-4004-dae1-1396c2862d92"
   },
   "outputs": [
    {
     "data": {
      "text/plain": [
       "254.41788070361616"
      ]
     },
     "execution_count": 31,
     "metadata": {},
     "output_type": "execute_result"
    }
   ],
   "source": [
    "# we will then sum them up \n",
    "np.sum(np.abs(Y_test - Y_pred))"
   ]
  },
  {
   "cell_type": "code",
   "execution_count": 32,
   "metadata": {
    "ExecuteTime": {
     "end_time": "2019-06-15T21:54:10.421281Z",
     "start_time": "2019-06-15T21:54:10.417121Z"
    },
    "colab": {
     "base_uri": "https://localhost:8080/",
     "height": 34
    },
    "colab_type": "code",
    "id": "5gByAtaoLHsP",
    "outputId": "7515d3ec-a819-4cef-fca1-d74c4b34b74a"
   },
   "outputs": [
    {
     "data": {
      "text/plain": [
       "2.8268653411512905"
      ]
     },
     "execution_count": 32,
     "metadata": {},
     "output_type": "execute_result"
    }
   ],
   "source": [
    "# then divide by the total number of predictions/actual values\n",
    "# as you will see, we get to the same score implemented above \n",
    "np.sum(np.abs(Y_test - Y_pred))/len(Y_test)"
   ]
  },
  {
   "cell_type": "markdown",
   "metadata": {
    "colab_type": "text",
    "id": "ZIr3bAQgRwnp"
   },
   "source": [
    "### Step 7: Refine our dataset\n",
    "* This step allows us to add or modify features of the datatset. We might do this if, for example, some combination of features better represents the problems space and so is an indicator of the target variable. \n",
    "* Here, we create one additional feature as an example, but you should reflect on our EDA earlier and see whether there are other features that can be added to our dataset."
   ]
  },
  {
   "cell_type": "code",
   "execution_count": 33,
   "metadata": {
    "ExecuteTime": {
     "end_time": "2019-06-15T21:54:10.427165Z",
     "start_time": "2019-06-15T21:54:10.423166Z"
    },
    "colab": {},
    "colab_type": "code",
    "id": "hI83luYSRwnq"
   },
   "outputs": [],
   "source": [
    "# here we are using pandas functionality to add a new column called LSTAT_2, which will feature values that are the square of LSTAT values\n",
    "boston_X['LSTAT_2'] = boston_X['LSTAT'].map(lambda x: x**2)"
   ]
  },
  {
   "cell_type": "code",
   "execution_count": 34,
   "metadata": {
    "ExecuteTime": {
     "end_time": "2019-06-15T21:54:10.434953Z",
     "start_time": "2019-06-15T21:54:10.429013Z"
    },
    "colab": {
     "base_uri": "https://localhost:8080/",
     "height": 34
    },
    "colab_type": "code",
    "id": "Md4DGMgARwnr",
    "outputId": "6eddcddb-5751-4bfd-c8b5-f1e8bf0e28c3"
   },
   "outputs": [
    {
     "name": "stdout",
     "output_type": "stream",
     "text": [
      "Number of features after Step 7:  14\n"
     ]
    }
   ],
   "source": [
    "# we can run our train_test_split function and see that we have an additional features\n",
    "X_train, X_test, Y_train, Y_test = model_selection.train_test_split(boston_X, boston_y, test_size = 0.2, random_state = 5)\n",
    "\n",
    "print('Number of features after Step 7: ', X_train.shape[1])"
   ]
  },
  {
   "cell_type": "code",
   "execution_count": 35,
   "metadata": {
    "ExecuteTime": {
     "end_time": "2019-06-15T21:54:10.606734Z",
     "start_time": "2019-06-15T21:54:10.437383Z"
    },
    "colab": {
     "base_uri": "https://localhost:8080/",
     "height": 438
    },
    "colab_type": "code",
    "id": "6hdKb4pDRwnu",
    "outputId": "c7e19a4a-6767-462f-a62e-509559b115ca"
   },
   "outputs": [
    {
     "name": "stdout",
     "output_type": "stream",
     "text": [
      "Mean squared error:  10.774536471890196\n",
      "Mean absolute error:  2.4972843658806756\n",
      "R^2 :  0.825588302614729\n"
     ]
    },
    {
     "data": {
      "image/png": "[encoded data removed]",
      "text/plain": [
       "<Figure size 432x288 with 1 Axes>"
      ]
     },
     "metadata": {
      "needs_background": "light"
     },
     "output_type": "display_data"
    }
   ],
   "source": [
    "# we can now run the same code as before on our refined dataset to see if things have improved \n",
    "lm.fit(X_train, Y_train)\n",
    "\n",
    "Y_pred = lm.predict(X_test)\n",
    "\n",
    "evaluate(Y_test, Y_pred)"
   ]
  },
  {
   "cell_type": "markdown",
   "metadata": {
    "colab_type": "text",
    "id": "EXiqclcVRwnx"
   },
   "source": [
    "### Step 8: Test Alternative Models\n",
    "* Once we got a nice baseline model working for this dataset, we also can try something more sophisticated and rather different, e.g. RandomForest Regressor. So, let's do so and also evaluate the result."
   ]
  },
  {
   "cell_type": "code",
   "execution_count": 36,
   "metadata": {
    "ExecuteTime": {
     "end_time": "2019-06-15T21:54:10.644491Z",
     "start_time": "2019-06-15T21:54:10.608510Z"
    },
    "colab": {
     "base_uri": "https://localhost:8080/",
     "height": 51
    },
    "colab_type": "code",
    "id": "XZ4e0MnYRwnz",
    "outputId": "30410d75-322c-4ea9-abd1-b77ba3d10d72"
   },
   "outputs": [
    {
     "name": "stderr",
     "output_type": "stream",
     "text": [
      "/Users/chiaracs/anaconda3/lib/python3.7/site-packages/sklearn/ensemble/forest.py:246: FutureWarning: The default value of n_estimators will change from 10 in version 0.20 to 100 in 0.22.\n",
      "  \"10 in version 0.20 to 100 in 0.22.\", FutureWarning)\n"
     ]
    }
   ],
   "source": [
    "# as you can see, its very similar code to instantiate the model\n",
    "# we are able to pass in additional parameters as the model is created, so optionally you can view the documentation and play with these values\n",
    "\n",
    "rfr = RandomForestRegressor()\n",
    "rfr.fit(X_train, Y_train)\n",
    "Y_pred = rfr.predict(X_test)"
   ]
  },
  {
   "cell_type": "code",
   "execution_count": 37,
   "metadata": {
    "ExecuteTime": {
     "end_time": "2019-06-15T21:54:10.842766Z",
     "start_time": "2019-06-15T21:54:10.646088Z"
    },
    "colab": {
     "base_uri": "https://localhost:8080/",
     "height": 438
    },
    "colab_type": "code",
    "id": "TggniO1ARwn1",
    "outputId": "04ddf3ce-5c2e-45ef-a08e-764221a50e88"
   },
   "outputs": [
    {
     "name": "stdout",
     "output_type": "stream",
     "text": [
      "Mean squared error:  6.9580333333333355\n",
      "Mean absolute error:  1.8680000000000003\n",
      "R^2 :  0.8873675533702969\n"
     ]
    },
    {
     "data": {
      "image/png": "[encoded data removed]",
      "text/plain": [
       "<Figure size 432x288 with 1 Axes>"
      ]
     },
     "metadata": {
      "needs_background": "light"
     },
     "output_type": "display_data"
    }
   ],
   "source": [
    "evaluate(Y_test, Y_pred)"
   ]
  },
  {
   "cell_type": "markdown",
   "metadata": {
    "colab_type": "text",
    "id": "l3XppAfmRwn6"
   },
   "source": [
    "### Step 9: Choose the best model and optimise its parameters\n",
    "* We can see that we have improved our model as we have added features and trained new models.\n",
    "* At the point that we feel comfortable with a good model, we can start to tune the parameters of the model.\n",
    "* There are a number of ways to do this, and a common way is shown below"
   ]
  },
  {
   "cell_type": "code",
   "execution_count": 38,
   "metadata": {
    "ExecuteTime": {
     "end_time": "2019-06-15T21:54:10.847948Z",
     "start_time": "2019-06-15T21:54:10.844558Z"
    },
    "colab": {},
    "colab_type": "code",
    "id": "NZOHs6GtRwn7"
   },
   "outputs": [],
   "source": [
    "## grid search is a 'brute force' search, one that will explore every possible combination of parameters that you provide it\n",
    "\n",
    "# we first define the parameters we want to search as a dictionary. Explore the documentation to what other options are avaiable\n",
    "params = {'n_estimators': [100, 200], 'max_depth' : [2, 10, 20]}\n",
    "\n",
    "# we then create a grid search object with our chosen model and paramters. We also use cross validation here - explored more in Day 2\n",
    "grid = model_selection.GridSearchCV(rfr, params, cv=5)"
   ]
  },
  {
   "cell_type": "code",
   "execution_count": 39,
   "metadata": {
    "ExecuteTime": {
     "end_time": "2019-06-15T21:54:16.833493Z",
     "start_time": "2019-06-15T21:54:10.849712Z"
    },
    "colab": {
     "base_uri": "https://localhost:8080/",
     "height": 258
    },
    "colab_type": "code",
    "id": "JrtZfUzFRwn8",
    "outputId": "da7193ee-a38c-4c33-bf5e-467623b18105"
   },
   "outputs": [
    {
     "name": "stderr",
     "output_type": "stream",
     "text": [
      "/Users/chiaracs/anaconda3/lib/python3.7/site-packages/sklearn/model_selection/_search.py:841: DeprecationWarning: The default of the `iid` parameter will change from True to False in version 0.22 and will be removed in 0.24. This will change numeric results when test-set sizes are unequal.\n",
      "  DeprecationWarning)\n"
     ]
    },
    {
     "data": {
      "text/plain": [
       "GridSearchCV(cv=5, error_score='raise-deprecating',\n",
       "       estimator=RandomForestRegressor(bootstrap=True, criterion='mse', max_depth=None,\n",
       "           max_features='auto', max_leaf_nodes=None,\n",
       "           min_impurity_decrease=0.0, min_impurity_split=None,\n",
       "           min_samples_leaf=1, min_samples_split=2,\n",
       "           min_weight_fraction_leaf=0.0, n_estimators=10, n_jobs=None,\n",
       "           oob_score=False, random_state=None, verbose=0, warm_start=False),\n",
       "       fit_params=None, iid='warn', n_jobs=None,\n",
       "       param_grid={'n_estimators': [100, 200], 'max_depth': [2, 10, 20]},\n",
       "       pre_dispatch='2*n_jobs', refit=True, return_train_score='warn',\n",
       "       scoring=None, verbose=0)"
      ]
     },
     "execution_count": 39,
     "metadata": {},
     "output_type": "execute_result"
    }
   ],
   "source": [
    "# we fit our model to the data as before\n",
    "grid.fit(X_train, Y_train)"
   ]
  },
  {
   "cell_type": "code",
   "execution_count": 40,
   "metadata": {
    "ExecuteTime": {
     "end_time": "2019-06-15T21:54:16.838474Z",
     "start_time": "2019-06-15T21:54:16.835911Z"
    },
    "colab": {},
    "colab_type": "code",
    "id": "O9br0prXRwn_"
   },
   "outputs": [],
   "source": [
    "# one output of the grid search function is that we can get the best_estimator - the model and parameters that scored best on the training data - \n",
    "#  and save it as a new a model\n",
    "best_model = grid.best_estimator_"
   ]
  },
  {
   "cell_type": "code",
   "execution_count": 41,
   "metadata": {
    "ExecuteTime": {
     "end_time": "2019-06-15T21:54:17.024056Z",
     "start_time": "2019-06-15T21:54:16.840261Z"
    },
    "colab": {
     "base_uri": "https://localhost:8080/",
     "height": 438
    },
    "colab_type": "code",
    "id": "mmhIn9y3RwoB",
    "outputId": "c3a82f2d-0af1-47da-ce34-0114ed96c218"
   },
   "outputs": [
    {
     "name": "stdout",
     "output_type": "stream",
     "text": [
      "Mean squared error:  5.305777406573848\n",
      "Mean absolute error:  1.6504937080253952\n",
      "R^2 :  0.9141132756993097\n"
     ]
    },
    {
     "data": {
      "image/png": "[encoded data removed]",
      "text/plain": [
       "<Figure size 432x288 with 1 Axes>"
      ]
     },
     "metadata": {
      "needs_background": "light"
     },
     "output_type": "display_data"
    }
   ],
   "source": [
    "# and use it to predict and evaluate as before\n",
    "Y_pred = best_model.predict(X_test)\n",
    "\n",
    "evaluate(Y_test, Y_pred)"
   ]
  },
  {
   "cell_type": "markdown",
   "metadata": {
    "colab_type": "text",
    "id": "NrfGQPgLRBEd"
   },
   "source": [
    "### NEXT STEPS: \n",
    "* As you can see, we have been able to try new models fairly easily and to see improvements in the evaluation metrics we have chosen. \n",
    "* If you have the opportunity, we would suggest ending Day 1 by trying the following:\n",
    "  * implement new models using the code structure above. Look at the `sklearn` documentation for different options\n",
    "  * explore the parameters of the different models 'by hand' (i.e. instantiate models with different parameters) and by using `GridSearchCV`\n",
    "* Develop new features for the dataset by reflecting on the EDA and determining if they might better reflect the problem we are trying to solve"
   ]
  }
 ],
 "metadata": {
  "colab": {
   "collapsed_sections": [
    "PUdUIdMKNNNO",
    "ZpnIe4L5JYK1"
   ],
   "name": "16 feb - Learn Machine Learning in a weekend - Day 1 - Regression.ipynb",
   "provenance": [],
   "version": "0.3.2"
  },
  "hide_input": false,
  "kernelspec": {
   "display_name": "Python 3",
   "language": "python",
   "name": "python3"
  },
  "language_info": {
   "codemirror_mode": {
    "name": "ipython",
    "version": 3
   },
   "file_extension": ".py",
   "mimetype": "text/x-python",
   "name": "python",
   "nbconvert_exporter": "python",
   "pygments_lexer": "ipython3",
   "version": "3.7.3"
  },
  "toc": {
   "base_numbering": 1,
   "nav_menu": {},
   "number_sections": true,
   "sideBar": true,
   "skip_h1_title": false,
   "title_cell": "Table of Contents",
   "title_sidebar": "Contents",
   "toc_cell": false,
   "toc_position": {},
   "toc_section_display": true,
   "toc_window_display": false
  },
  "varInspector": {
   "cols": {
    "lenName": 16,
    "lenType": 16,
    "lenVar": 40
   },
   "kernels_config": {
    "python": {
     "delete_cmd_postfix": "",
     "delete_cmd_prefix": "del ",
     "library": "var_list.py",
     "varRefreshCmd": "print(var_dic_list())"
    },
    "r": {
     "delete_cmd_postfix": ") ",
     "delete_cmd_prefix": "rm(",
     "library": "var_list.r",
     "varRefreshCmd": "cat(var_dic_list()) "
    }
   },
   "types_to_exclude": [
    "module",
    "function",
    "builtin_function_or_method",
    "instance",
    "_Feature"
   ],
   "window_display": false
  }
 },
 "nbformat": 4,
 "nbformat_minor": 1
}
